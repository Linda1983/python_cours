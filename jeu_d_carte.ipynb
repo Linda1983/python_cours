{
 "cells": [
  {
   "cell_type": "code",
   "execution_count": 34,
   "id": "f06b973a-6c0a-4540-bb2b-c1654c8716bd",
   "metadata": {},
   "outputs": [],
   "source": [
    "import random"
   ]
  },
  {
   "cell_type": "code",
   "execution_count": 93,
   "id": "c2dfe8fc-ea06-47ad-b045-bae2aa799c3c",
   "metadata": {
    "scrolled": true
   },
   "outputs": [
    {
     "name": "stdout",
     "output_type": "stream",
     "text": [
      "1\n",
      "2\n",
      "3\n",
      "4\n",
      "5\n",
      "6\n",
      "7\n",
      "8\n",
      "9\n",
      "10\n",
      "11\n",
      "12\n",
      "13\n",
      "14\n",
      "15\n",
      "16\n",
      "17\n",
      "18\n",
      "19\n",
      "20\n",
      "21\n",
      "22\n",
      "23\n",
      "24\n",
      "25\n",
      "26\n",
      "27\n",
      "28\n",
      "29\n",
      "30\n",
      "31\n",
      "32\n",
      "33\n",
      "34\n",
      "35\n",
      "36\n",
      "37\n",
      "38\n",
      "39\n",
      "40\n",
      "41\n",
      "42\n",
      "43\n",
      "44\n",
      "45\n",
      "46\n",
      "47\n",
      "48\n",
      "49\n",
      "50\n",
      "51\n",
      "52\n",
      "53\n",
      "54\n",
      "[1, 2, 3, 4, 5, 6, 7, 8, 9, 10, 11, 12, 13, 14, 15, 16, 17, 18, 19, 20, 21, 22, 23, 24, 25, 26, 27, 28, 29, 30, 31, 32, 33, 34, 35, 36, 37, 38, 39, 40, 41, 42, 43, 44, 45, 46, 47, 48, 49, 50, 51, 52, 53, 54]\n",
      "[50, 38, 27, 2, 16, 37, 9, 19, 10, 36, 40, 23, 24, 26, 45, 47, 48, 18, 20, 21, 8, 6, 43, 13, 29, 22, 44, 32, 5, 33, 1, 3, 35, 25, 39, 52, 28, 14, 15, 17, 11, 41, 30, 4, 12, 7, 46, 31, 49, 42, 53, 34, 54, 51]\n"
     ]
    },
    {
     "ename": "UnboundLocalError",
     "evalue": "cannot access local variable 'carte_zero' where it is not associated with a value",
     "output_type": "error",
     "traceback": [
      "\u001b[0;31m---------------------------------------------------------------------------\u001b[0m",
      "\u001b[0;31mUnboundLocalError\u001b[0m                         Traceback (most recent call last)",
      "Cell \u001b[0;32mIn[93], line 28\u001b[0m\n\u001b[1;32m     25\u001b[0m     random\u001b[38;5;241m.\u001b[39mshuffle(\u001b[38;5;28mlist\u001b[39m)\n\u001b[1;32m     27\u001b[0m \u001b[38;5;28mlist\u001b[39m \u001b[38;5;241m=\u001b[39m []\n\u001b[0;32m---> 28\u001b[0m randomiseList(\u001b[38;5;28mlist\u001b[39m)\n\u001b[1;32m     30\u001b[0m randomList \u001b[38;5;241m=\u001b[39m getRandomisedList()\n\u001b[1;32m     31\u001b[0m randomList2 \u001b[38;5;241m=\u001b[39m getRandomisedList()\n",
      "Cell \u001b[0;32mIn[93], line 22\u001b[0m, in \u001b[0;36mrandomiseList\u001b[0;34m(list)\u001b[0m\n\u001b[1;32m     20\u001b[0m \u001b[38;5;28;01mdef\u001b[39;00m \u001b[38;5;21mrandomiseList\u001b[39m(\u001b[38;5;28mlist\u001b[39m):\n\u001b[1;32m     21\u001b[0m     \u001b[38;5;28;01mfor\u001b[39;00m i \u001b[38;5;129;01min\u001b[39;00m \u001b[38;5;28mrange\u001b[39m(\u001b[38;5;241m1\u001b[39m,\u001b[38;5;241m55\u001b[39m):\n\u001b[0;32m---> 22\u001b[0m         carte_zero\u001b[38;5;241m+\u001b[39m\u001b[38;5;241m=\u001b[39m\u001b[38;5;241m1\u001b[39m\n\u001b[1;32m     23\u001b[0m         \u001b[38;5;28mprint\u001b[39m(carte_zero)\n\u001b[1;32m     24\u001b[0m         \u001b[38;5;28mlist\u001b[39m\u001b[38;5;241m.\u001b[39mappend(carte_zero)\n",
      "\u001b[0;31mUnboundLocalError\u001b[0m: cannot access local variable 'carte_zero' where it is not associated with a value"
     ]
    }
   ],
   "source": [
    "carte_zero = 0\n",
    "nombre_54_nombre = []\n",
    "for i in range(1,55):\n",
    "    carte_zero+=1\n",
    "    print(carte_zero)\n",
    "    nombre_54_nombre.append(carte_zero)\n",
    "print(nombre_54_nombre)\n",
    "random.shuffle(nombre_54_nombre)\n",
    "print(nombre_54_nombre)\n",
    "\n",
    "def getRandomisedList():\n",
    "    list = []\n",
    "    for i in range(1,55):\n",
    "        carte_zero+=1\n",
    "        print(carte_zero)\n",
    "        list.append(carte_zero)\n",
    "    random.shuffle(list)\n",
    "    return list\n",
    "\n",
    "def randomiseList(list):\n",
    "    for i in range(1,55):\n",
    "        carte_zero+=1\n",
    "        print(carte_zero)\n",
    "        list.append(carte_zero)\n",
    "    random.shuffle(list)\n",
    "\n",
    "list = []\n",
    "randomiseList(list)\n",
    "\n",
    "randomList = getRandomisedList()\n",
    "randomList2 = getRandomisedList()\n",
    "\n",
    "print(randomList)\n",
    "print(list)\n",
    "    "
   ]
  },
  {
   "cell_type": "code",
   "execution_count": null,
   "id": "9b171607-0ec3-458a-a169-199bfa463d6a",
   "metadata": {},
   "outputs": [],
   "source": []
  },
  {
   "cell_type": "code",
   "execution_count": 92,
   "id": "29387c90-a864-4266-9b89-e1a7c6fc0a38",
   "metadata": {},
   "outputs": [
    {
     "name": "stdout",
     "output_type": "stream",
     "text": [
      "[10, 3, 39, 30, 16, 43, 8, 5, 26, 2, 46, 34, 41, 18, 24, 47, 15, 51, 1, 52, 9, 32, 29, 42, 45, 27, 33, 37, 6, 28, 53, 19, 36, 21, 35, 50, 11, 7, 23, 38, 49, 13, 4, 25, 48, 12, 44, 31, 17, 22, 40, 20, 14, 54]\n",
      "[1, 2, 3, 4, 5, 6, 7, 8, 9, 10, 11, 12, 13, 14, 15, 16, 17, 18, 19, 20, 21, 22, 23, 24, 25, 26, 27, 28, 29, 30, 31, 32, 33, 34, 35, 36, 37, 38, 39, 40, 41, 42, 43, 44, 45, 46, 47, 48, 49, 50, 51, 52, 53, 54]\n"
     ]
    }
   ],
   "source": [
    "def tri_plat(carte):\n",
    "    for i in range(0,53): \n",
    "        j = i+1 \n",
    "        if  carte[i] > carte[j]:\n",
    "            carte[i],carte[j] = carte[j],carte[i]\n",
    "            #temp = carte[i]\n",
    "            #carte[i] = carte[j]\n",
    "            #carte[j] = temp\n",
    "            i = i+1\n",
    "tri_plat(nombre_54_nombre)\n",
    "print(nombre_54_nombre)\n",
    "\n",
    "def tri(nombre_54_nombre):\n",
    "    for a in range(0,53):\n",
    "        tri_plat(nombre_54_nombre)\n",
    "    return nombre_54_nombre\n",
    "max_carte = tri(nombre_54_nombre)\n",
    "print(max_carte )\n",
    "        "
   ]
  },
  {
   "cell_type": "code",
   "execution_count": null,
   "id": "11fbf15c-55a7-4331-960d-b44449f323ab",
   "metadata": {},
   "outputs": [],
   "source": []
  },
  {
   "cell_type": "code",
   "execution_count": null,
   "id": "8d75e669-3056-46ff-997e-fb65929516d5",
   "metadata": {},
   "outputs": [],
   "source": []
  },
  {
   "cell_type": "code",
   "execution_count": null,
   "id": "70425811-eee7-4fdd-92e3-bdaa8939fe04",
   "metadata": {},
   "outputs": [],
   "source": []
  },
  {
   "cell_type": "code",
   "execution_count": null,
   "id": "ea699c1b-193e-4052-b34a-2a7ca04b5873",
   "metadata": {},
   "outputs": [],
   "source": []
  }
 ],
 "metadata": {
  "kernelspec": {
   "display_name": "Python 3 (ipykernel)",
   "language": "python",
   "name": "python3"
  },
  "language_info": {
   "codemirror_mode": {
    "name": "ipython",
    "version": 3
   },
   "file_extension": ".py",
   "mimetype": "text/x-python",
   "name": "python",
   "nbconvert_exporter": "python",
   "pygments_lexer": "ipython3",
   "version": "3.11.7"
  }
 },
 "nbformat": 4,
 "nbformat_minor": 5
}
