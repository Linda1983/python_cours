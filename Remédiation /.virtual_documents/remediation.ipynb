

















# Une liste peut contnir des types différents
arr = [1, 2, 4, 8.9, 'r', True, 'abc']
arr


# Accéder à un indice de la liste
arr[0]


# Modifier un élément de la liste
arr[0] = 49
arr


# Récupérer les 3 premiers éléments de la liste
arr[0:3]


# Récupérer les 3 premiers éléments de la liste
# Notation simplifiée
arr[:3]


# Accéder au dernier élément
arr[-1]


# Accéder aux deux derniers éléments
arr[-2:]


# Accéder à éléments à partir du 3eme jusqu'à la fin
arr[3:]


# Prendre un élément sur deux
arr[::2]


# Inverser la liste
arr[::-1]


# Exemple de liste de listes
arr2D = [ [1,2], ['a', 'b'], [True, False] ]
arr2D[0][1]


# Création de listes rapides (trick)
alphabet = list('abcdefghijk')
alphabet


# Idem pour créer une liste de nombres
nombres = list( range(10) )
nombres





# Exemple de tuple
t = (1, 2, 4)
t


# Accéder à un élément
t[0] 


# Modification interdite des éléments d'un tuple
t[0] = 7


# Transformer un tuple en liste
list(t)


# Destructuration
prenom, nom = ("Florian", "Dadouchi")

prenom


# Comment retourner plusieurs informations depuis une fonction
# (Mauvais) Exemple avec une concaténation de strings
def my_super_function():
    prenom = 'florian'
    nom = 'dadouchi'
    nom_complet = prenom + ' ' + nom 
    return nom_complet

nom_complet = my_super_function()
nom_complet


# Return a list
def my_super_function():
    prenom = 'florian'
    nom = 'dadouchi'
    nom_complet = [prenom, nom] 
    return nom_complet

nom_complet = my_super_function()
print(nom_complet)
print(nom_complet[0])
print(nom_complet[1])


# Return a tuple
# Super pratique !
def my_super_function():
    prenom = 'florian'
    nom = 'dadouchi'
    return prenom, nom

firstname, lastname = my_super_function()
print(firstname)
print(lastname)





# Définition
dico = {'pomme': 2, 'poire':3}
dico


# Accéder aux éléments
dico['pomme']


# Pas d'ordre dans les éléments
dico[0]


# Mettre à jour la valeur associée à une clé
dico['pomme'] = 80
dico


# Récupérer les clés de ce dictionnaire
dico.keys()


# Récupérer les valeurs de ce dictionnaire
dico.values()


# Récupérer les couples clé / valeur de ce dictionnaire
dico.items()


# Itérer sur un dictionnaire en utilisant les keys
for key in dico.keys():
    print(key, dico[key])


# Itérer sur un dictionnaire en utilisant les values
for value in dico.values():
    print(value)


# Itérer sur un dictionnaire en utilisant les "items"
items = []
for key, val in dico.items():
    items.append( [key, val] )

items


# Qu'est ce qu'il y a dans les items ? 
list(dico.items())


# Un exemple un peu plus complexe
utilisateurs = [
    { 'id': 0, 'name': 'Florian', 'langues': ['Français', 'Portugais'] },
    { 'id': 1, 'name': 'Malik'  , 'langues': ['Français', 'Arabe']     },
    { 'id': 2, 'name': 'Rama'   , 'langues': ['Français', 'Wolof']     },
    { 'id': 3, 'name': 'Linda'  , 'langues': ['Français', 'Ouzbek']    },
]


# C'est pratique de pouvoir écrire des choses comme user['name'], 
# ça rend le code plus lisible
for user in utilisateurs:
    print(user['name'], ': Langues parlées', user['langues'] )


dico_rate = { 
    'a' : 0,
    [1, 2] : 'Pas ok --> ça ne va pas marcher (unhashable type: list)' 
}



dico_rate = { 
    'a' : 0,
    ('Florian', 'Dadouchi') : 'OK'
}


dico_rate[ ('Florian', 'Dadouchi') ]





# Le set ne garde que les éléments uniques (par définition d'un set)
arr_duplicates = [1, 3, 6, 0, 0, 0, 5, 7, 6, 6, 9]
elements_uniques = set(arr_duplicates)
elements_uniques


# Je peux rajouter un élément
elements_uniques.add(2)
elements_uniques


# Mais si l'élément est déjà présent, ça ne fait pas de doublon
elements_uniques.add(9)
elements_uniques


# Exemple en utilisant un set pour compter le nombre de doublons dans une liste
dico_doublons = dict()
arr_duplicates = ['test', 'plouf', 'plouf', 'bonjour', 'test', 'plouf']
elements_uniques = set(arr_duplicates)

for elt in elements_uniques:
    nbre_doublons = arr_duplicates.count(elt)
    dico_doublons[elt] = nbre_doublons
 
dico_doublons





# Fonction to create a user (type : dict) 
# Illustration de l'utilisation d'argument positionnels et d'argument optionnels 'keywords'
def create_user(id, name="John Doe", langues=None):
    user = {
        'id' : id,
        'name' : name,
        'langues' : langues
    }
    return user

create_user(id=1, name='Test')

