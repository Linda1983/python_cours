{
 "cells": [
  {
   "cell_type": "markdown",
   "id": "9b4e25dd-e67d-4e8a-a308-8b53460ab0bd",
   "metadata": {},
   "source": [
    "# calculate sum of even number from 1 to 100 including 1 and 100\n"
   ]
  },
  {
   "cell_type": "code",
   "execution_count": 33,
   "id": "8489ade9-4c93-4c0b-a26d-9c4cdc560dc4",
   "metadata": {},
   "outputs": [
    {
     "name": "stdout",
     "output_type": "stream",
     "text": [
      "5050\n"
     ]
    }
   ],
   "source": [
    "total = 0\n",
    "for i in range(1,101):\n",
    "    total = total +i\n",
    "    #print(total)\n",
    "print(total)"
   ]
  },
  {
   "cell_type": "code",
   "execution_count": 55,
   "id": "29e6223c-5df4-4608-b094-742ed25e7884",
   "metadata": {},
   "outputs": [
    {
     "name": "stdout",
     "output_type": "stream",
     "text": [
      "2550\n"
     ]
    }
   ],
   "source": [
    "total = 0\n",
    "for i in range(2,101,2):\n",
    "    total = total +i # 2,4,6,8\n",
    "    #print(total)\n",
    "print(total)"
   ]
  },
  {
   "cell_type": "code",
   "execution_count": 35,
   "id": "d2919ea0-070c-4d27-ad3e-ee7d76e4973f",
   "metadata": {},
   "outputs": [
    {
     "name": "stdout",
     "output_type": "stream",
     "text": [
      "2550\n"
     ]
    }
   ],
   "source": [
    "total = 0\n",
    "for i in range(1,101): # 1,2,3,4,5\n",
    "    if i%2 == 0: \n",
    "        total = total +i\n",
    "    #print(total)\n",
    "print(total)"
   ]
  },
  {
   "cell_type": "markdown",
   "id": "8ff2ef0a-b838-4437-9010-a67a25e19ec1",
   "metadata": {},
   "source": [
    "# Quel ordre les conditions if : El/if"
   ]
  },
  {
   "cell_type": "code",
   "execution_count": 36,
   "id": "5be43444-5559-44c3-b9d7-ab4d0388ea53",
   "metadata": {},
   "outputs": [
    {
     "name": "stdout",
     "output_type": "stream",
     "text": [
      "1\n",
      "2\n",
      "Fizz\n",
      "4\n",
      "Buzz\n",
      "Fizz\n",
      "7\n",
      "8\n",
      "Fizz\n",
      "Buzz\n",
      "11\n",
      "Fizz\n",
      "13\n",
      "14\n",
      "FizzBuzz\n",
      "Fizz\n"
     ]
    }
   ],
   "source": [
    "for  number in range(1,16):\n",
    "    if number%3 == 0 and number%5 ==0:\n",
    "        print(\"FizzBuzz\")  \n",
    "    if number%3 == 0:\n",
    "        print(\"Fizz\")\n",
    "    elif number%5 ==0 :\n",
    "        print(\"Buzz\")\n",
    "    else :\n",
    "        print(number)\n",
    "    \n",
    "    "
   ]
  },
  {
   "cell_type": "markdown",
   "id": "99c839dc-05a3-4cc2-b21e-933072756daf",
   "metadata": {},
   "source": [
    "# Password genertor"
   ]
  },
  {
   "cell_type": "code",
   "execution_count": 37,
   "id": "c2ccb191-004f-4c8a-9452-f99a4476a2b0",
   "metadata": {},
   "outputs": [],
   "source": [
    "import random"
   ]
  },
  {
   "cell_type": "markdown",
   "id": "53e680a2-9b52-428b-a06b-24b0d2340690",
   "metadata": {},
   "source": [
    "# Importer les lettres de l'alphabet"
   ]
  },
  {
   "cell_type": "code",
   "execution_count": null,
   "id": "1e270022-e3e9-439c-9651-f24c67feac1f",
   "metadata": {},
   "outputs": [],
   "source": []
  },
  {
   "cell_type": "code",
   "execution_count": 38,
   "id": "13f447ea-a95c-4ac5-b991-469c3d0576c5",
   "metadata": {},
   "outputs": [
    {
     "name": "stdout",
     "output_type": "stream",
     "text": [
      "['b', 'c', 'd', 'e', 'f', 'g']\n"
     ]
    }
   ],
   "source": [
    "import string\n",
    "string.ascii_lowercase\n",
    "letters=list(string.ascii_lowercase)\n",
    "print(letters[1:7])\n",
    "\n"
   ]
  },
  {
   "cell_type": "markdown",
   "id": "895a51a8-e71d-494b-94c1-65e0e426951e",
   "metadata": {},
   "source": [
    "# While loop when we use it -> when we don't know how many times the statements will be executed; For loop we know how many times in advnce"
   ]
  },
  {
   "cell_type": "code",
   "execution_count": 46,
   "id": "f72464ab-9628-48a1-827e-05f8bbb9e6f3",
   "metadata": {},
   "outputs": [
    {
     "name": "stdout",
     "output_type": "stream",
     "text": [
      "Jenny\n"
     ]
    },
    {
     "ename": "NameError",
     "evalue": "name 'list_1' is not defined",
     "output_type": "error",
     "traceback": [
      "\u001b[0;31m---------------------------------------------------------------------------\u001b[0m",
      "\u001b[0;31mNameError\u001b[0m                                 Traceback (most recent call last)",
      "Cell \u001b[0;32mIn[46], line 4\u001b[0m\n\u001b[1;32m      2\u001b[0m \u001b[38;5;28;01mwhile\u001b[39;00m liste_1:   \u001b[38;5;66;03m# Toujours vrai\u001b[39;00m\n\u001b[1;32m      3\u001b[0m     \u001b[38;5;28mprint\u001b[39m(\u001b[38;5;124m\"\u001b[39m\u001b[38;5;124mJenny\u001b[39m\u001b[38;5;124m\"\u001b[39m)  \u001b[38;5;66;03m# si pas de suite c'est une boucle à l'infini donc il faut la stopper...\u001b[39;00m\n\u001b[0;32m----> 4\u001b[0m     list_1\u001b[38;5;241m.\u001b[39mpop()\n",
      "\u001b[0;31mNameError\u001b[0m: name 'list_1' is not defined"
     ]
    }
   ],
   "source": [
    "liste_1 = [1,2,0,5,6]\n",
    "while liste_1:   # Toujours vrai\n",
    "    print(\"Jenny\")  # si pas de suite c'est une boucle à l'infini donc il faut la stopper...\n",
    "    list_1.pop()    # pop va remove 1 par un et printer 5 fois.  mais il y a autre façon de faire...\n",
    "    # print 5 times Jenny\n",
    "    "
   ]
  },
  {
   "cell_type": "code",
   "execution_count": null,
   "id": "ff5e63d8-40a5-44e3-bdb5-62583bff40a7",
   "metadata": {},
   "outputs": [],
   "source": []
  },
  {
   "cell_type": "code",
   "execution_count": 47,
   "id": "b642d697-e1c8-430b-9b7d-d2637bd79517",
   "metadata": {},
   "outputs": [
    {
     "name": "stdout",
     "output_type": "stream",
     "text": [
      "1\n",
      "2\n",
      "3\n",
      "4\n",
      "5\n",
      "out from loop\n"
     ]
    }
   ],
   "source": [
    "count = 1\n",
    "while count <= 5 :\n",
    "    print(count)\n",
    "    count+=1\n",
    "print(\"Out from loop\")"
   ]
  },
  {
   "cell_type": "code",
   "execution_count": 48,
   "id": "b2c741a4-8f59-43b9-ba2b-e1eddad17165",
   "metadata": {},
   "outputs": [
    {
     "name": "stdout",
     "output_type": "stream",
     "text": [
      "5\n",
      "4\n",
      "3\n",
      "2\n",
      "1\n",
      "Out from loop\n"
     ]
    }
   ],
   "source": [
    "count = 5 \n",
    "while count > 0:\n",
    "    print(count)\n",
    "    count-=1\n",
    "print(\"Out from loop\")"
   ]
  },
  {
   "cell_type": "code",
   "execution_count": 52,
   "id": "b93cefa0-80ad-4bf5-916b-564b201eb64f",
   "metadata": {},
   "outputs": [
    {
     "name": "stdout",
     "output_type": "stream",
     "text": [
      "5\n",
      "4\n",
      "3\n",
      "2\n",
      "1\n",
      "in else loop\n",
      "Out from loop\n"
     ]
    }
   ],
   "source": [
    "count = 5 \n",
    "while count > 0:\n",
    "    print(count)\n",
    "    count-=1\n",
    "else :\n",
    "    print(\"in else loop\") # else est executed tant que la while loop est terminée avec succès\n",
    "print(\"Out from loop\")"
   ]
  },
  {
   "cell_type": "code",
   "execution_count": 53,
   "id": "ae383951-6a04-40a4-a034-aca6e5c55046",
   "metadata": {},
   "outputs": [
    {
     "name": "stdout",
     "output_type": "stream",
     "text": [
      "5\n",
      "4\n",
      "Out from loop\n"
     ]
    }
   ],
   "source": [
    "count = 5 \n",
    "while count > 0:\n",
    "    print(count)\n",
    "    count-=1\n",
    "    if count == 3 :\n",
    "        break\n",
    "else :\n",
    "    print(\"in else loop\") # ne fonctionne pas car on a forcé et breaké la while loop\n",
    "print(\"Out from loop\")"
   ]
  },
  {
   "cell_type": "code",
   "execution_count": 4,
   "id": "3b2a44d7-3c96-484d-8a0c-937babf37d32",
   "metadata": {},
   "outputs": [
    {
     "name": "stdin",
     "output_type": "stream",
     "text": [
      "Enter a number(-1 to quit) 9\n"
     ]
    },
    {
     "name": "stdout",
     "output_type": "stream",
     "text": [
      "9\n"
     ]
    },
    {
     "name": "stdin",
     "output_type": "stream",
     "text": [
      "Enter a number(-1 to quit) 8\n"
     ]
    },
    {
     "name": "stdout",
     "output_type": "stream",
     "text": [
      "8\n"
     ]
    },
    {
     "name": "stdin",
     "output_type": "stream",
     "text": [
      "Enter a number(-1 to quit) 5\n"
     ]
    },
    {
     "name": "stdout",
     "output_type": "stream",
     "text": [
      "5\n"
     ]
    },
    {
     "name": "stdin",
     "output_type": "stream",
     "text": [
      "Enter a number(-1 to quit) -9\n"
     ]
    },
    {
     "name": "stdout",
     "output_type": "stream",
     "text": [
      "-9\n"
     ]
    },
    {
     "name": "stdin",
     "output_type": "stream",
     "text": [
      "Enter a number(-1 to quit) -1\n"
     ]
    },
    {
     "name": "stdout",
     "output_type": "stream",
     "text": [
      "In else block\n",
      "Out from loop\n"
     ]
    }
   ],
   "source": [
    "number = int(input(\"Enter a number(-1 to quit)\"))\n",
    "while number != -1 :\n",
    "    print(number)\n",
    "    number = int(input(\"Enter a number(-1 to quit)\"))\n",
    "  \n",
    "else: \n",
    "    print(\"In else block\")\n",
    "print(\"Out from loop\")"
   ]
  },
  {
   "cell_type": "code",
   "execution_count": 6,
   "id": "daaec0ef-9ee6-4ddb-a069-039c1035ad57",
   "metadata": {},
   "outputs": [
    {
     "name": "stdout",
     "output_type": "stream",
     "text": [
      "0\n",
      "1\n",
      "2\n",
      "3\n",
      "4\n"
     ]
    }
   ],
   "source": [
    "count = 0\n",
    "while True: \n",
    "    print(count)\n",
    "    count+=1\n",
    "    if count == 5 :\n",
    "        break\n",
    "else :\n",
    "    print(\"in else block\")  # pas de else car la bocule while est fini avec force on l'a forcée\n",
    "print(\"out from loop\")"
   ]
  },
  {
   "cell_type": "code",
   "execution_count": null,
   "id": "d00209b9-7525-411b-84fa-93b32ee6ba15",
   "metadata": {},
   "outputs": [],
   "source": [
    "total = 0\n",
    "number = int(input(Enter a number (0 to quit)\")\n",
    "while number!= 0:\n",
    "    total = total +number\n",
    "    \n",
    "                                 "
   ]
  },
  {
   "cell_type": "code",
   "execution_count": 2,
   "id": "384b1b01-d494-44ab-a3da-91f8ab7b8622",
   "metadata": {},
   "outputs": [
    {
     "name": "stdout",
     "output_type": "stream",
     "text": [
      "1 1\n",
      "1 2\n",
      "1 3\n",
      "2 2\n",
      "2 3\n",
      "3 3\n"
     ]
    }
   ],
   "source": [
    "nums = [1,2,3]\n",
    "for i in range(len(nums)):   \n",
    "    for j in range(i,len(nums)):   # j = 1,2,3\n",
    "        print(nums[i],nums[j])"
   ]
  },
  {
   "cell_type": "code",
   "execution_count": 3,
   "id": "bd3a4919-53fe-471d-9dd9-1ca80a85ad9c",
   "metadata": {},
   "outputs": [
    {
     "name": "stdout",
     "output_type": "stream",
     "text": [
      "1 2\n",
      "1 3\n",
      "2 3\n"
     ]
    }
   ],
   "source": [
    "nums = [1,2,3]\n",
    "for i in range(len(nums)):\n",
    "    for j in range(i+1,len(nums)):\n",
    "        print(nums[i],nums[j])"
   ]
  },
  {
   "cell_type": "code",
   "execution_count": 6,
   "id": "0f3f89e7-c81e-4239-bda4-c8708c743312",
   "metadata": {},
   "outputs": [
    {
     "name": "stdout",
     "output_type": "stream",
     "text": [
      "1 3\n"
     ]
    }
   ],
   "source": [
    "nums = [1,2,3]\n",
    "for i in range(len(nums)):\n",
    "    for j in range(i+2,len(nums)):\n",
    "        print(nums[i],nums[j])"
   ]
  },
  {
   "cell_type": "code",
   "execution_count": null,
   "id": "eb5024e3-d9a5-4014-93f0-897d341fcd53",
   "metadata": {},
   "outputs": [],
   "source": []
  }
 ],
 "metadata": {
  "kernelspec": {
   "display_name": "Python 3 (ipykernel)",
   "language": "python",
   "name": "python3"
  },
  "language_info": {
   "codemirror_mode": {
    "name": "ipython",
    "version": 3
   },
   "file_extension": ".py",
   "mimetype": "text/x-python",
   "name": "python",
   "nbconvert_exporter": "python",
   "pygments_lexer": "ipython3",
   "version": "3.11.7"
  }
 },
 "nbformat": 4,
 "nbformat_minor": 5
}
